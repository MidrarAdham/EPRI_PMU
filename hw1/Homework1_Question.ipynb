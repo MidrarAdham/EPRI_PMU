{
 "cells": [
  {
   "cell_type": "markdown",
   "id": "0cf6e1f0",
   "metadata": {},
   "source": [
    "# Homework 1:  Power System Event Classification with Convolutional Neural Network Using PMU Data"
   ]
  },
  {
   "cell_type": "markdown",
   "id": "f7148807",
   "metadata": {},
   "source": [
    "## Notebook Outline\n",
    "\n",
    "    1. Load Needed Libraries/Packages\n",
    "\n",
    "    2. Load pmuBAGE Dataset\n",
    "    \n",
    "    3. Visualization of the PMU events\n",
    "\n",
    "    4. Dataset Pre-processing\n",
    "\n",
    "    5. Define the Neural Network\n",
    "\n",
    "    6. Train the Neural Network\n",
    "\n",
    "    7. Evaluate the Neural Network"
   ]
  },
  {
   "cell_type": "markdown",
   "id": "22dc56f8",
   "metadata": {},
   "source": [
    "## 1. Load Needed Libraries/Packages"
   ]
  },
  {
   "cell_type": "code",
   "execution_count": 3,
   "id": "c996fdab",
   "metadata": {},
   "outputs": [
    {
     "name": "stderr",
     "output_type": "stream",
     "text": [
      "2024-04-25 11:21:04.234145: I tensorflow/tsl/cuda/cudart_stub.cc:28] Could not find cuda drivers on your machine, GPU will not be used.\n",
      "2024-04-25 11:21:04.261094: I tensorflow/tsl/cuda/cudart_stub.cc:28] Could not find cuda drivers on your machine, GPU will not be used.\n",
      "2024-04-25 11:21:04.261599: I tensorflow/core/platform/cpu_feature_guard.cc:182] This TensorFlow binary is optimized to use available CPU instructions in performance-critical operations.\n",
      "To enable the following instructions: AVX2 FMA, in other operations, rebuild TensorFlow with the appropriate compiler flags.\n",
      "2024-04-25 11:21:04.983421: W tensorflow/compiler/tf2tensorrt/utils/py_utils.cc:38] TF-TRT Warning: Could not find TensorRT\n"
     ]
    },
    {
     "ename": "ModuleNotFoundError",
     "evalue": "No module named 'pandas'",
     "output_type": "error",
     "traceback": [
      "\u001b[0;31m---------------------------------------------------------------------------\u001b[0m",
      "\u001b[0;31mModuleNotFoundError\u001b[0m                       Traceback (most recent call last)",
      "Cell \u001b[0;32mIn[3], line 10\u001b[0m\n\u001b[1;32m      8\u001b[0m \u001b[38;5;28;01mimport\u001b[39;00m \u001b[38;5;21;01mnumpy\u001b[39;00m \u001b[38;5;28;01mas\u001b[39;00m \u001b[38;5;21;01mnp\u001b[39;00m \n\u001b[1;32m      9\u001b[0m \u001b[38;5;66;03m# Load pandas as \"pd\", which is useful when working with data tables. \u001b[39;00m\n\u001b[0;32m---> 10\u001b[0m \u001b[38;5;28;01mimport\u001b[39;00m \u001b[38;5;21;01mpandas\u001b[39;00m \u001b[38;5;28;01mas\u001b[39;00m \u001b[38;5;21;01mpd\u001b[39;00m \n\u001b[1;32m     11\u001b[0m \u001b[38;5;66;03m# Load random, which provide some randomize functions.\u001b[39;00m\n\u001b[1;32m     12\u001b[0m \u001b[38;5;28;01mimport\u001b[39;00m \u001b[38;5;21;01mrandom\u001b[39;00m\n",
      "\u001b[0;31mModuleNotFoundError\u001b[0m: No module named 'pandas'"
     ]
    }
   ],
   "source": [
    "# Load the tensorflow, which is a framework for deep learning.\n",
    "import tensorflow as tf\n",
    "\n",
    "# import tensorflow.python.keras.layers as layers\n",
    "\n",
    "from tensorflow.keras import datasets, layers, models\n",
    "# Load numpy library as \"np\", which can handle large matrices and provides some mathematical functions.\n",
    "import numpy as np \n",
    "# Load pandas as \"pd\", which is useful when working with data tables. \n",
    "import pandas as pd \n",
    "# Load random, which provide some randomize functions.\n",
    "import random\n",
    "# Load a function pyplot as \"plt\" to plot figures.\n",
    "import matplotlib.pyplot as plt\n",
    "\n",
    "# Setup the random seed for reproducibility\n",
    "seed = 1234\n",
    "random.seed(seed)\n",
    "np.random.seed(seed)\n",
    "tf.random.set_seed(seed)\n"
   ]
  },
  {
   "cell_type": "markdown",
   "id": "500df0e9",
   "metadata": {},
   "source": [
    "## 2. Load the pmuBAGE Data\n",
    "    31 tensors for voltage events and 21 tensors for frequency events.\n",
    "    Each voltage tensor contains 20 events and each frequency tensor contains 4 events.\n",
    "    There are 620 voltage and 84 frequency event samples."
   ]
  },
  {
   "cell_type": "markdown",
   "id": "e440bffa",
   "metadata": {},
   "source": [
    "### Download the dataset: \n",
    "> Download the dataset from https://github.com/NanpengYu/pmuBAGE.git, and put it same path of this notebook."
   ]
  },
  {
   "cell_type": "code",
   "execution_count": 1,
   "id": "b05b42f1",
   "metadata": {},
   "outputs": [
    {
     "ename": "NameError",
     "evalue": "name 'np' is not defined",
     "output_type": "error",
     "traceback": [
      "\u001b[0;31m---------------------------------------------------------------------------\u001b[0m",
      "\u001b[0;31mNameError\u001b[0m                                 Traceback (most recent call last)",
      "Cell \u001b[0;32mIn[1], line 11\u001b[0m\n\u001b[1;32m      9\u001b[0m voltage_tensor_list \u001b[38;5;241m=\u001b[39m []\n\u001b[1;32m     10\u001b[0m \u001b[38;5;28;01mfor\u001b[39;00m idx \u001b[38;5;129;01min\u001b[39;00m \u001b[38;5;28mrange\u001b[39m(voltage_tensor_number):\n\u001b[0;32m---> 11\u001b[0m     voltage_sub_tensor \u001b[38;5;241m=\u001b[39m \u001b[43mnp\u001b[49m\u001b[38;5;241m.\u001b[39mload(\u001b[38;5;124mf\u001b[39m\u001b[38;5;124m\"\u001b[39m\u001b[38;5;132;01m{\u001b[39;00mpmuBAGE_data_dir\u001b[38;5;132;01m}\u001b[39;00m\u001b[38;5;124m/voltage/voltage_\u001b[39m\u001b[38;5;132;01m{\u001b[39;00midx\u001b[38;5;132;01m}\u001b[39;00m\u001b[38;5;124m.npy\u001b[39m\u001b[38;5;124m\"\u001b[39m)\n\u001b[1;32m     12\u001b[0m     voltage_tensor_list\u001b[38;5;241m.\u001b[39mappend(voltage_sub_tensor)\n\u001b[1;32m     13\u001b[0m voltage_tensor \u001b[38;5;241m=\u001b[39m np\u001b[38;5;241m.\u001b[39mconcatenate(voltage_tensor_list, axis\u001b[38;5;241m=\u001b[39m\u001b[38;5;241m0\u001b[39m)\n",
      "\u001b[0;31mNameError\u001b[0m: name 'np' is not defined"
     ]
    }
   ],
   "source": [
    "# The root directory of the pmuBAGE data\n",
    "pmuBAGE_data_dir = \"pmuBAGE/data\"\n",
    "\n",
    "# Number of the tensor for voltage and frequency\n",
    "voltage_tensor_number = 31\n",
    "frequency_tensor_number = 21\n",
    "\n",
    "# Load each tensors of voltage events and concatenate them as a big tensor.\n",
    "voltage_tensor_list = []\n",
    "for idx in range(voltage_tensor_number):\n",
    "    voltage_sub_tensor = np.load(f\"{pmuBAGE_data_dir}/voltage/voltage_{idx}.npy\")\n",
    "    voltage_tensor_list.append(voltage_sub_tensor)\n",
    "voltage_tensor = np.concatenate(voltage_tensor_list, axis=0)\n",
    "\n",
    "# Load each tensors of frequency events and concatenate them as a big tensor.\n",
    "frequency_tensor_list = []\n",
    "for idx in range(frequency_tensor_number):\n",
    "    frequency_sub_tensor = np.load(f\"{pmuBAGE_data_dir}/frequency/frequency_{idx}.npy\")\n",
    "    frequency_tensor_list.append(frequency_sub_tensor)\n",
    "frequency_tensor = np.concatenate(frequency_tensor_list, axis=0)\n",
    "\n",
    "# Transpose the big tensor as (event_idx, timestamp, PMU_idx, measurements)\n",
    "voltage_tensor = np.transpose(voltage_tensor, (0, 3, 2, 1))\n",
    "frequency_tensor = np.transpose(frequency_tensor, (0, 3, 2, 1))\n",
    "\n",
    "# Print the shape of the voltage event\n",
    "print(voltage_tensor.shape)\n",
    "print(frequency_tensor.shape)"
   ]
  },
  {
   "cell_type": "markdown",
   "id": "2d16c7bd",
   "metadata": {},
   "source": [
    "## 3. Visualization of the PMU Event Sample"
   ]
  },
  {
   "cell_type": "code",
   "execution_count": null,
   "id": "755ab0eb",
   "metadata": {},
   "outputs": [],
   "source": [
    "def visualization(event, save_path='', isSave=False):\n",
    "    plt.style.context(['ieee', 'no-latex'])\n",
    "\n",
    "    fig, axes = plt.subplots(nrows=4, ncols=1, figsize=(10, 8))\n",
    "    plt.subplots_adjust(hspace=0.55)\n",
    "    plt.tick_params(labelsize=15)\n",
    "\n",
    "    axes[0].set_title(\"Real Power\", fontsize=20)\n",
    "    axes[0].plot(event[:, :, 0])\n",
    "    axes[0].tick_params(labelsize=12)\n",
    "    axes[0].set_xlabel('Timestamp', fontsize=15)\n",
    "    axes[0].xaxis.set_label_coords(0.92, -0.21)\n",
    "\n",
    "    axes[1].set_title(\"Reactive Power\", fontsize=20)\n",
    "    axes[1].plot(event[:, :, 1])\n",
    "    axes[1].tick_params(labelsize=12)\n",
    "    axes[1].set_xlabel('Timestamp', fontsize=15)\n",
    "    axes[1].xaxis.set_label_coords(0.92, -0.21)\n",
    "\n",
    "    axes[2].set_title(\"Voltage Magnitude\", fontsize=20)\n",
    "    axes[2].plot(event[:, :, 2])\n",
    "    axes[2].tick_params(labelsize=12)\n",
    "    axes[2].set_xlabel('Timestamp', fontsize=15)\n",
    "    axes[2].xaxis.set_label_coords(0.92, -0.21)\n",
    "\n",
    "    axes[3].set_title(\"Frequency\", fontsize=20)\n",
    "    axes[3].plot(event[:, :, 3])\n",
    "    axes[3].tick_params(labelsize=12)\n",
    "    axes[3].set_xlabel('Timestamp', fontsize=15)\n",
    "    axes[3].xaxis.set_label_coords(0.92, -0.21)\n",
    "\n",
    "    if isSave == True:\n",
    "        plt.savefig(save_path)\n",
    "    plt.show()\n",
    "    \n",
    "    return"
   ]
  },
  {
   "cell_type": "code",
   "execution_count": null,
   "id": "8f6bf38c",
   "metadata": {},
   "outputs": [],
   "source": [
    "visualization(frequency_tensor[1])"
   ]
  },
  {
   "cell_type": "markdown",
   "id": "e0fdb7ec",
   "metadata": {},
   "source": [
    "## 4. Dataset Pre-processing (Input Samples and Labels)"
   ]
  },
  {
   "cell_type": "markdown",
   "id": "74817433",
   "metadata": {},
   "source": [
    "### 4.1 Dataset standardization"
   ]
  },
  {
   "cell_type": "code",
   "execution_count": null,
   "id": "adb0c0a8",
   "metadata": {},
   "outputs": [],
   "source": [
    "##-----------------------------------------------------------------------##\n",
    "##---------------------Students start filling below----------------------##\n",
    "##-----------------------------------------------------------------------##\n",
    "\n",
    "\"\"\"\n",
    "    Use standardization to pre-process the pmu time series data.\n",
    "    Input  -> two original tensors: voltage_tensor, frequency_tensor\n",
    "    Output -> two standardized tensors: voltage_tensor_standardized, frequency_tensor_standardized\n",
    "    Requirement Details: \n",
    "        The tensor shape is (number_of_event, timestamps (600), pmus (100), measurements (4))\n",
    "        For each time sequence (Single pmu measurement sequence, 600 timestamps), standardize them by Z-Score\n",
    "        z-score = (x - mean) / std\n",
    "\"\"\"\n",
    "\n",
    "# Voltage tensor\n",
    "\n",
    "voltage_tensor_standardized = ...\n",
    "\n",
    "\n",
    "# Frequency tensor\n",
    "\n",
    "frequency_tensor_standardized = ...\n",
    "\n",
    "##-----------------------------------------------------------------------##\n",
    "##------------------------------End filling------------------------------##\n",
    "##-----------------------------------------------------------------------##\n",
    "\n",
    "# Should be (620, 600, 100, 4)\n",
    "print(voltage_tensor_standardized.shape)\n",
    "# Should be (84, 600, 100, 4)\n",
    "print(frequency_tensor_standardized.shape)\n"
   ]
  },
  {
   "cell_type": "code",
   "execution_count": null,
   "id": "1270a3e4",
   "metadata": {
    "scrolled": true
   },
   "outputs": [],
   "source": [
    "# Visualize the standardized event and compare the difference.\n",
    "visualization(frequency_tensor_standardized[1])"
   ]
  },
  {
   "cell_type": "markdown",
   "id": "f983a02c",
   "metadata": {},
   "source": [
    "### 4.2 One-hot Encoding for Different Event Types"
   ]
  },
  {
   "cell_type": "code",
   "execution_count": null,
   "id": "4df7890f",
   "metadata": {},
   "outputs": [],
   "source": [
    "# Number of the classes\n",
    "num_classes = 2\n",
    "\n",
    "# Number of the voltage and frequency events in the dataset\n",
    "n_voltage = voltage_tensor_standardized.shape[0]\n",
    "n_frequency = frequency_tensor_standardized.shape[0]\n",
    "\n",
    "# Define the labels\n",
    "# Voltage events' label is defined as: 0\n",
    "voltage_label = np.array([0] * n_voltage)\n",
    "# Frequency events' label is defined as: 1\n",
    "frequency_label = np.array([1] * n_frequency)\n",
    "\n",
    "##-----------------------------------------------------------------------##\n",
    "##---------------------Students start filling below----------------------##\n",
    "##-----------------------------------------------------------------------##\n",
    "\n",
    "\n",
    "\"\"\"\n",
    "    Implement the one-hot encoding on the lablel of of the voltage and frequency event labels.\n",
    "    Input  -> Original voltage and frequency labels (voltage_label, frequency_label)\n",
    "    Output -> One-hot encoded voltage and frequency labels (voltage_label_onehot, frequency_label_onthot)\n",
    "    Voltage label: \"0\" -> \"[1, 0]\"\n",
    "    Frequency label: \"1\" -> \"[0, 1]\"\n",
    "    You can use any library or tool for doing this\n",
    "\"\"\"\n",
    "\n",
    "voltage_label_onehot = ...\n",
    "frequency_label_onthot = ...\n",
    "\n",
    "##-----------------------------------------------------------------------##\n",
    "##------------------------------End filling------------------------------##\n",
    "##-----------------------------------------------------------------------##\n",
    "\n",
    "\n",
    "# Should be [1, 0]\n",
    "print(voltage_label_onehot[0])\n",
    "# Should be [0, 1]\n",
    "print(frequency_label_onthot[0])\n",
    "# Should be (620, 2)\n",
    "print(voltage_label_onehot.shape)\n",
    "# Should be (84, 2)\n",
    "print(frequency_label_onthot.shape)"
   ]
  },
  {
   "cell_type": "markdown",
   "id": "b4af3e6d",
   "metadata": {},
   "source": [
    "### 4.3 Permutation over the voltage and frequency tensor"
   ]
  },
  {
   "cell_type": "code",
   "execution_count": null,
   "id": "e74674ea",
   "metadata": {},
   "outputs": [],
   "source": [
    "voltage_tensor_standarded_permuted = voltage_tensor_standardized[np.random.permutation(n_voltage)]\n",
    "frequency_tensor_standarded_permuted = frequency_tensor_standardized[np.random.permutation(n_frequency)]"
   ]
  },
  {
   "cell_type": "markdown",
   "id": "a5dca6ef",
   "metadata": {},
   "source": [
    "### 4.4 Seperate the Train and Test dataset"
   ]
  },
  {
   "cell_type": "code",
   "execution_count": null,
   "id": "9548dd5d",
   "metadata": {},
   "outputs": [],
   "source": [
    "# Seperate the data to train and test\n",
    "train_portion = 0.7\n",
    "\n",
    "# Samples\n",
    "X_voltage = voltage_tensor_standarded_permuted\n",
    "X_frequency = frequency_tensor_standarded_permuted\n",
    "# Labels\n",
    "y_voltage = voltage_label_onehot\n",
    "y_frequency = frequency_label_onthot\n",
    "\n",
    "##-----------------------------------------------------------------------##\n",
    "##---------------------Students start filling below----------------------##\n",
    "##-----------------------------------------------------------------------##\n",
    "\n",
    "\n",
    "\"\"\"\n",
    "    Seperate the samples and labels to train and test datasets.\n",
    "    70% of the voltage and frequency samples and labels are combined as training dataset\n",
    "    30% remainings are combined as testing dataset\n",
    "    Input  -> X_voltage, X_frequency, y_voltage, y_frequency\n",
    "    Output -> X_train, y_train, X_test, y_test\n",
    "        X_train contains 70% of the X_voltage and X_frequency\n",
    "        y_train contains 70% of the y_voltage and y_frequency\n",
    "        X_test contains 30% of the X_voltage and X_frequency\n",
    "        y_test contains 30% of the y_voltage and y_frequency\n",
    "\"\"\"\n",
    "\n",
    "\n",
    "# X_train\n",
    "X_train = ...\n",
    "\n",
    "# y_train\n",
    "y_train = ...\n",
    "\n",
    "# X_test\n",
    "X_test = ...\n",
    "\n",
    "# y_test\n",
    "y_test = ...\n",
    "\n",
    "\n",
    "##-----------------------------------------------------------------------##\n",
    "##------------------------------End filling------------------------------##\n",
    "##-----------------------------------------------------------------------##\n",
    "\n",
    "# Should be (492, 600, 100, 4)\n",
    "print(X_train.shape)\n",
    "# Should be (492, 2)\n",
    "print(y_train.shape)\n",
    "# Should be (212, 600, 100, 4)\n",
    "print(X_test.shape)\n",
    "# Should be (212, 2)\n",
    "print(y_test.shape)"
   ]
  },
  {
   "cell_type": "markdown",
   "id": "c1ff0a91",
   "metadata": {},
   "source": [
    "## 5. Define the Neural Network"
   ]
  },
  {
   "cell_type": "code",
   "execution_count": null,
   "id": "d5357c8e",
   "metadata": {},
   "outputs": [],
   "source": [
    "model = models.Sequential()\n",
    "model.add(layers.Conv2D(32, (3, 3), activation='relu', input_shape=(600, 100, 4)))\n",
    "\n",
    "##-----------------------------------------------------------------------##\n",
    "##---------------------Students start filling below----------------------##\n",
    "##-----------------------------------------------------------------------##\n",
    "\n",
    "\"\"\"\n",
    "    Add more laybers in the model, at least three convolusional layers.\n",
    "    Then add the Flatten and Dense layers to make the output same with the number of classes.\n",
    "\"\"\"\n",
    "\n",
    "model.add ...\n",
    "\n",
    "\n",
    "\"\"\"\n",
    "    Define the Loss function\n",
    "\"\"\"\n",
    "\n",
    "loss_func = ...\n",
    "\n",
    "\n",
    "\"\"\"\n",
    "    Define the optimizer and learning rate\n",
    "\"\"\"\n",
    "\n",
    "\n",
    "lr = 0.01\n",
    "optimizer = ...\n",
    "\n",
    "\n",
    "##-----------------------------------------------------------------------##\n",
    "##------------------------------End filling------------------------------##\n",
    "##-----------------------------------------------------------------------##\n",
    "\n",
    "# Summary of the model\n",
    "model.summary()\n",
    "# Compile the neural network model\n",
    "model.compile(optimizer=optimizer, loss=loss_func, metrics=['categorical_accuracy'])\n"
   ]
  },
  {
   "cell_type": "markdown",
   "id": "7b1e49b8",
   "metadata": {},
   "source": [
    "## 6. Train the neural network"
   ]
  },
  {
   "cell_type": "code",
   "execution_count": null,
   "id": "c072ee23",
   "metadata": {},
   "outputs": [],
   "source": [
    "# Thanks to the Keras, the training only need one-line code.\n",
    "\n",
    "model.fit(X_train, y_train, epochs=10, batch_size=16)\n"
   ]
  },
  {
   "cell_type": "markdown",
   "id": "7e0998f1",
   "metadata": {},
   "source": [
    "## 7. Evaluate the Neural Network"
   ]
  },
  {
   "cell_type": "code",
   "execution_count": null,
   "id": "664fce05",
   "metadata": {},
   "outputs": [],
   "source": [
    "loss, accuracy = model.evaluate(X_test, y_test)\n",
    "print(f\"The accuracy of the neural network on the test dataset is: {accuracy}.\")"
   ]
  },
  {
   "cell_type": "code",
   "execution_count": null,
   "id": "47af4707-a1f1-48a9-9586-f042788f6cc7",
   "metadata": {},
   "outputs": [],
   "source": []
  }
 ],
 "metadata": {
  "kernelspec": {
   "display_name": "Python 3 (ipykernel)",
   "language": "python",
   "name": "python3"
  },
  "language_info": {
   "codemirror_mode": {
    "name": "ipython",
    "version": 3
   },
   "file_extension": ".py",
   "mimetype": "text/x-python",
   "name": "python",
   "nbconvert_exporter": "python",
   "pygments_lexer": "ipython3",
   "version": "3.8.10"
  }
 },
 "nbformat": 4,
 "nbformat_minor": 5
}
